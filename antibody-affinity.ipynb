{
 "cells": [
  {
   "cell_type": "markdown",
   "id": "9bfa557f-bd90-44d8-bd85-fe540ce9ed85",
   "metadata": {},
   "source": [
    "# ESM2 Embedder using HuggingFace\n",
    "\n",
    "[ESM2 protein language model](https://github.com/facebookresearch/esm) to embed protein sequences into an embedding space.\n"
   ]
  },
  {
   "cell_type": "code",
   "execution_count": 1,
   "id": "b207119e-a20c-4dfb-aed0-db7927b8c4cf",
   "metadata": {},
   "outputs": [],
   "source": [
    "import numpy as np\n",
    "from tqdm import tqdm"
   ]
  },
  {
   "cell_type": "code",
   "execution_count": 2,
   "id": "3769b1e8-0dfb-433b-b10d-e36d5c627181",
   "metadata": {},
   "outputs": [],
   "source": [
    "import torch"
   ]
  },
  {
   "cell_type": "code",
   "execution_count": 3,
   "id": "5b51bf5c-1167-4fe6-9a5c-761e091593a3",
   "metadata": {},
   "outputs": [
    {
     "data": {
      "text/plain": [
       "True"
      ]
     },
     "execution_count": 3,
     "metadata": {},
     "output_type": "execute_result"
    }
   ],
   "source": [
    "torch.cuda.is_available()"
   ]
  },
  {
   "cell_type": "markdown",
   "id": "2bed0326-6a36-4c09-9352-0d12f1a114b9",
   "metadata": {},
   "source": [
    "## Load HuggingFace model"
   ]
  },
  {
   "cell_type": "code",
   "execution_count": 4,
   "id": "5e7bc44b-3124-4471-b816-ebc177f93a43",
   "metadata": {},
   "outputs": [],
   "source": [
    "from transformers import AutoTokenizer, EsmModel"
   ]
  },
  {
   "cell_type": "code",
   "execution_count": 5,
   "id": "d9747493-1dc3-4084-b165-0fb835192e9e",
   "metadata": {},
   "outputs": [
    {
     "name": "stderr",
     "output_type": "stream",
     "text": [
      "Some weights of EsmModel were not initialized from the model checkpoint at facebook/esm2_t6_8M_UR50D and are newly initialized: ['esm.pooler.dense.bias', 'esm.pooler.dense.weight']\n",
      "You should probably TRAIN this model on a down-stream task to be able to use it for predictions and inference.\n"
     ]
    }
   ],
   "source": [
    "model_name = \"facebook/esm2_t6_8M_UR50D\"\n",
    "tokenizer = AutoTokenizer.from_pretrained(model_name)\n",
    "model = EsmModel.from_pretrained(model_name)"
   ]
  },
  {
   "cell_type": "markdown",
   "id": "55372ba6-3c5f-436c-9452-a6d829461e69",
   "metadata": {},
   "source": [
    "Put tensor(s) on the desired hardware device. If CUDA (GPU) is available, then use that. If not, then use CPU."
   ]
  },
  {
   "cell_type": "code",
   "execution_count": 6,
   "id": "333a6ac4-30a6-4af6-a1de-5aaafa34970a",
   "metadata": {},
   "outputs": [],
   "source": [
    "device = torch.device(\"cuda\" if torch.cuda.is_available() else \"cpu\")\n",
    "model = model.to(device)\n"
   ]
  },
  {
   "cell_type": "markdown",
   "id": "799849ec-c50c-4e15-aed2-1654595a2763",
   "metadata": {},
   "source": [
    "## Multimers\n",
    "\n",
    "If the protein consists of multiple chains (multimers), then connect them as one long sequence string by inserting a chain of \"G\" in between."
   ]
  },
  {
   "cell_type": "code",
   "execution_count": 7,
   "id": "745a4147-cbfe-47cc-9eb9-0e6b1c40e3a9",
   "metadata": {},
   "outputs": [],
   "source": [
    "chain_A = \"MRLIPLHNVDQVAKWSARYIVDRINQFQPTEARPFVLGLPTGGTPLKTYEALIELYKAGEVSFKHVVTFNMDEYVGLPKEHPESYHSFMYKNFFDHVDIQEKNINILNGNTEDHDAECQRYEEKIKSYGKIHLFMGGVGVDGHIAFNEPASSLSSRTRIKTLTEDTLIANSRFFDNDVNKVPKYALTIGVGTLLDAEEVMILVTGYNKAQALQAAVEGSINHLWTVTALQMHRRAIIVCDEPATQELKVKTVKYFTELEASAIRSVK\"\n",
    "chain_B = \"HPESYHSFMYKNFFDHVDIQEKRTTDINRT\"\n",
    "\n",
    "linker_sequence = \"G\" * 25  # Put G linker in between chains (hide it later)\n",
    "\n",
    "multimer_sequence = chain_A + linker_sequence + chain_B"
   ]
  },
  {
   "cell_type": "markdown",
   "id": "ed8cb2a6-f9dd-40b6-b096-3694fc283464",
   "metadata": {},
   "source": [
    "Tokenize the input sequence string"
   ]
  },
  {
   "cell_type": "code",
   "execution_count": 8,
   "id": "3cbd1e57-fa4f-4575-8cfb-958f7d5ca5cb",
   "metadata": {},
   "outputs": [],
   "source": [
    "tokenized_multimer = tokenizer([multimer_sequence], return_tensors=\"pt\", add_special_tokens=False)"
   ]
  },
  {
   "cell_type": "markdown",
   "id": "dc31bad9-3490-4667-a661-5dc794dec0bd",
   "metadata": {},
   "source": [
    "Renumber the positions of the second chain so that the model knows that the second chain is not really connected. "
   ]
  },
  {
   "cell_type": "code",
   "execution_count": 9,
   "id": "99c492d3-8867-45b1-ae16-9f454f600bb1",
   "metadata": {},
   "outputs": [],
   "source": [
    "with torch.no_grad():\n",
    "    position_ids = torch.arange(len(multimer_sequence), dtype=torch.long)\n",
    "    position_ids[len(chain_A) + len(linker_sequence):] += 512"
   ]
  },
  {
   "cell_type": "code",
   "execution_count": 10,
   "id": "1798bdba-ad3c-4f5b-a4b7-e00b43a4c5df",
   "metadata": {},
   "outputs": [],
   "source": [
    "tokenized_multimer['position_ids'] = position_ids.unsqueeze(0)\n",
    "\n",
    "tokenized_multimer = {key: tensor.to(device) for key, tensor in tokenized_multimer.items()}"
   ]
  },
  {
   "cell_type": "code",
   "execution_count": 11,
   "id": "7812743e-feef-4a00-90c5-9c5d0401e08d",
   "metadata": {},
   "outputs": [],
   "source": [
    "with torch.no_grad():\n",
    "    output = model(**tokenized_multimer)"
   ]
  },
  {
   "cell_type": "code",
   "execution_count": 12,
   "id": "42af4730-e246-40f2-a5e3-c8ec49ce7764",
   "metadata": {},
   "outputs": [
    {
     "data": {
      "text/plain": [
       "odict_keys(['last_hidden_state', 'pooler_output'])"
      ]
     },
     "execution_count": 12,
     "metadata": {},
     "output_type": "execute_result"
    }
   ],
   "source": [
    "output.keys()"
   ]
  },
  {
   "cell_type": "markdown",
   "id": "eaf3f886-d1ad-4ca6-9155-72a2910a3431",
   "metadata": {},
   "source": [
    "The embeddings are the last hidden state of the model."
   ]
  },
  {
   "cell_type": "code",
   "execution_count": 13,
   "id": "7b780eb8-3e25-4502-8312-1ce9bba39693",
   "metadata": {},
   "outputs": [
    {
     "data": {
      "text/plain": [
       "torch.Size([1, 322, 320])"
      ]
     },
     "execution_count": 13,
     "metadata": {},
     "output_type": "execute_result"
    }
   ],
   "source": [
    "output[\"last_hidden_state\"].shape"
   ]
  },
  {
   "cell_type": "code",
   "execution_count": 14,
   "id": "9aa4adda-a594-4d57-ab78-9688d589cab7",
   "metadata": {},
   "outputs": [
    {
     "data": {
      "text/plain": [
       "torch.Size([322])"
      ]
     },
     "execution_count": 14,
     "metadata": {},
     "output_type": "execute_result"
    }
   ],
   "source": [
    "position_ids.shape"
   ]
  },
  {
   "cell_type": "markdown",
   "id": "b65df819-ef8b-4dc5-95aa-1a39ffc3c978",
   "metadata": {},
   "source": [
    "## Create embedding function\n",
    "\n",
    "Preprocess data to get the ESM2 embedding space from the raw sequence strings"
   ]
  },
  {
   "cell_type": "code",
   "execution_count": 15,
   "id": "12f46f7f-9ee5-4d7c-bb5f-91cff43e0532",
   "metadata": {},
   "outputs": [],
   "source": [
    "def embed_antibody(sequence_strs: str):\n",
    "    \"\"\"Embed antibody using ESM2\n",
    "    \n",
    "    Args:\n",
    "        sequence_strs(str): List of the heavy and light chain sequence strings\n",
    "                        It's really a list that has been converted to string because Pandas can't handle arrays\n",
    "\n",
    "    Returns:\n",
    "        PyTorch embedding vector. 1 x length of sequence x 320 embedding dimensions\n",
    "    \"\"\"\n",
    "\n",
    "    embed_sequences = []\n",
    "    \n",
    "    for sequence_str in sequence_strs:\n",
    "        sequences = sequence_str.split(\"'\")[1:3]\n",
    "        \n",
    "        linker_sequence = \"G\" * 25  # Put G linker in between chains (hide it later)\n",
    "        multimer_sequence = sequences[0] + linker_sequence + sequences[1]\n",
    "    \n",
    "        tokenized_multimer = tokenizer([multimer_sequence], return_tensors=\"pt\", add_special_tokens=False)\n",
    "    \n",
    "        with torch.no_grad():\n",
    "            position_ids = torch.arange(len(multimer_sequence), dtype=torch.long)\n",
    "            position_ids[len(sequences[0]) + len(linker_sequence):] += 512\n",
    "    \n",
    "        \n",
    "        tokenized_multimer['position_ids'] = position_ids.unsqueeze(0)\n",
    "    \n",
    "        tokenized_multimer = {key: tensor.to(device) for key, tensor in tokenized_multimer.items()}\n",
    "        with torch.no_grad():\n",
    "            output = model(**tokenized_multimer)\n",
    "    \n",
    "        embedding = output[\"last_hidden_state\"]\n",
    "        mean_embedding = torch.mean(embedding, axis=1)\n",
    "        \n",
    "        embed_sequences.append(mean_embedding.to(\"cpu\").numpy().T)\n",
    "\n",
    "    return np.array(embed_sequences)\n",
    "    "
   ]
  },
  {
   "cell_type": "markdown",
   "id": "babc7d9b-d388-4b55-a959-f8f7d5d6ecdd",
   "metadata": {},
   "source": [
    "## TD Commons\n"
   ]
  },
  {
   "cell_type": "code",
   "execution_count": 16,
   "id": "51cb70e3-4361-4801-99d9-d6fd53d402ef",
   "metadata": {},
   "outputs": [
    {
     "name": "stderr",
     "output_type": "stream",
     "text": [
      "Found local copy...\n",
      "Loading...\n",
      "Done!\n"
     ]
    }
   ],
   "source": [
    "from tdc.multi_pred import AntibodyAff\n",
    "data = AntibodyAff(name = \"Protein_SAbDab\")\n",
    "split = data.get_split()"
   ]
  },
  {
   "cell_type": "code",
   "execution_count": 17,
   "id": "8b96b5c4-f243-4d4c-92f1-4b0a81a2f838",
   "metadata": {},
   "outputs": [
    {
     "data": {
      "text/html": [
       "<div>\n",
       "<style scoped>\n",
       "    .dataframe tbody tr th:only-of-type {\n",
       "        vertical-align: middle;\n",
       "    }\n",
       "\n",
       "    .dataframe tbody tr th {\n",
       "        vertical-align: top;\n",
       "    }\n",
       "\n",
       "    .dataframe thead th {\n",
       "        text-align: right;\n",
       "    }\n",
       "</style>\n",
       "<table border=\"1\" class=\"dataframe\">\n",
       "  <thead>\n",
       "    <tr style=\"text-align: right;\">\n",
       "      <th></th>\n",
       "      <th>Antibody_ID</th>\n",
       "      <th>Antibody</th>\n",
       "      <th>Antigen_ID</th>\n",
       "      <th>Antigen</th>\n",
       "      <th>Y</th>\n",
       "    </tr>\n",
       "  </thead>\n",
       "  <tbody>\n",
       "    <tr>\n",
       "      <th>0</th>\n",
       "      <td>4i2x</td>\n",
       "      <td>['EVKLQQSGPELVKPGASVKISCKASGYSFTSYYIHWVKQRPGQG...</td>\n",
       "      <td>signal-regulatory protein gamma</td>\n",
       "      <td>EEELQMIQPEKLLLVTVGKTATLHCTVTSLLPVGPVLWFRGVGPGR...</td>\n",
       "      <td>1.200000e-06</td>\n",
       "    </tr>\n",
       "    <tr>\n",
       "      <th>1</th>\n",
       "      <td>5vyf</td>\n",
       "      <td>['EVQLVESGGGLVQPGGSLRLSCAASGFTFSSYAMSWVRQAPGKG...</td>\n",
       "      <td>chimera of major allergen i polypeptide chain ...</td>\n",
       "      <td>VKMAETCPIFYDVFFAVANGNELLLDLSLTKVAATEPERTAMKKIQ...</td>\n",
       "      <td>1.870000e-10</td>\n",
       "    </tr>\n",
       "    <tr>\n",
       "      <th>2</th>\n",
       "      <td>3eob</td>\n",
       "      <td>['EVQLVESGGGLVQPGGSLRLSCAASGYSFTGHWMNWVRQAPGKG...</td>\n",
       "      <td>integrin alpha-l</td>\n",
       "      <td>GNVDLVFLFDGSMSLQPDEFQKILDFMKDVMKKLSNTSYQFAAVQF...</td>\n",
       "      <td>2.200000e-09</td>\n",
       "    </tr>\n",
       "    <tr>\n",
       "      <th>3</th>\n",
       "      <td>2r56</td>\n",
       "      <td>['QVSLRESGGGLVQPGRSLRLSCTASGFTFRHHGMTWVRQAPGKG...</td>\n",
       "      <td>beta-lactoglobulin</td>\n",
       "      <td>LIVTQTMKGLDIQKVAGTWYSLAMAASDISLLDAQSAPLRVYVEEL...</td>\n",
       "      <td>1.300000e-09</td>\n",
       "    </tr>\n",
       "    <tr>\n",
       "      <th>4</th>\n",
       "      <td>4yhz</td>\n",
       "      <td>['EVQLVETGGGVVQPGRSLRLSCTASGFTFRDYWMSWVRQAPGKG...</td>\n",
       "      <td>h3k4me3 peptide</td>\n",
       "      <td>ARTKQTARKSTG</td>\n",
       "      <td>1.100000e-08</td>\n",
       "    </tr>\n",
       "  </tbody>\n",
       "</table>\n",
       "</div>"
      ],
      "text/plain": [
       "  Antibody_ID                                           Antibody  \\\n",
       "0        4i2x  ['EVKLQQSGPELVKPGASVKISCKASGYSFTSYYIHWVKQRPGQG...   \n",
       "1        5vyf  ['EVQLVESGGGLVQPGGSLRLSCAASGFTFSSYAMSWVRQAPGKG...   \n",
       "2        3eob  ['EVQLVESGGGLVQPGGSLRLSCAASGYSFTGHWMNWVRQAPGKG...   \n",
       "3        2r56  ['QVSLRESGGGLVQPGRSLRLSCTASGFTFRHHGMTWVRQAPGKG...   \n",
       "4        4yhz  ['EVQLVETGGGVVQPGRSLRLSCTASGFTFRDYWMSWVRQAPGKG...   \n",
       "\n",
       "                                          Antigen_ID  \\\n",
       "0                    signal-regulatory protein gamma   \n",
       "1  chimera of major allergen i polypeptide chain ...   \n",
       "2                                   integrin alpha-l   \n",
       "3                                 beta-lactoglobulin   \n",
       "4                                    h3k4me3 peptide   \n",
       "\n",
       "                                             Antigen             Y  \n",
       "0  EEELQMIQPEKLLLVTVGKTATLHCTVTSLLPVGPVLWFRGVGPGR...  1.200000e-06  \n",
       "1  VKMAETCPIFYDVFFAVANGNELLLDLSLTKVAATEPERTAMKKIQ...  1.870000e-10  \n",
       "2  GNVDLVFLFDGSMSLQPDEFQKILDFMKDVMKKLSNTSYQFAAVQF...  2.200000e-09  \n",
       "3  LIVTQTMKGLDIQKVAGTWYSLAMAASDISLLDAQSAPLRVYVEEL...  1.300000e-09  \n",
       "4                                       ARTKQTARKSTG  1.100000e-08  "
      ]
     },
     "execution_count": 17,
     "metadata": {},
     "output_type": "execute_result"
    }
   ],
   "source": [
    "split[\"train\"].head(5)"
   ]
  },
  {
   "cell_type": "code",
   "execution_count": 18,
   "id": "824e1f3e-feff-4e0d-b666-2af1445ea280",
   "metadata": {},
   "outputs": [
    {
     "data": {
      "text/html": [
       "<div>\n",
       "<style scoped>\n",
       "    .dataframe tbody tr th:only-of-type {\n",
       "        vertical-align: middle;\n",
       "    }\n",
       "\n",
       "    .dataframe tbody tr th {\n",
       "        vertical-align: top;\n",
       "    }\n",
       "\n",
       "    .dataframe thead th {\n",
       "        text-align: right;\n",
       "    }\n",
       "</style>\n",
       "<table border=\"1\" class=\"dataframe\">\n",
       "  <thead>\n",
       "    <tr style=\"text-align: right;\">\n",
       "      <th></th>\n",
       "      <th>Antibody_ID</th>\n",
       "      <th>Antibody</th>\n",
       "      <th>Antigen_ID</th>\n",
       "      <th>Antigen</th>\n",
       "      <th>Y</th>\n",
       "    </tr>\n",
       "  </thead>\n",
       "  <tbody>\n",
       "    <tr>\n",
       "      <th>0</th>\n",
       "      <td>1tzh</td>\n",
       "      <td>['EVQLVESGGGLVQPGGSLRLSCAASGFDIYDDDIHWVRQAPGKG...</td>\n",
       "      <td>vascular endothelial growth factor a</td>\n",
       "      <td>GQNHHEVVKFMDVYQRSYCHPIETLVDIFQEYPDEIEYIFKPSCVP...</td>\n",
       "      <td>1.800000e-09</td>\n",
       "    </tr>\n",
       "    <tr>\n",
       "      <th>1</th>\n",
       "      <td>5xmh</td>\n",
       "      <td>['MQVQLVQSGAEVKKPGSSVKVSCKASGGTFSSYPISWVRQAPGQ...</td>\n",
       "      <td>immunoglobulin gamma-1 heavy chain</td>\n",
       "      <td>GPSVFLFPPKPKDTLMISRTPEVTCVVVDVSHEDPEVKFNWYVDGV...</td>\n",
       "      <td>1.600000e-04</td>\n",
       "    </tr>\n",
       "    <tr>\n",
       "      <th>2</th>\n",
       "      <td>2ny3</td>\n",
       "      <td>['EVQLVESGAEVKKPGSSVKVSCKASGDTFIRYSFTWVRQAPGQG...</td>\n",
       "      <td>envelope glycoprotein gp120</td>\n",
       "      <td>EVVLVNVTENFNMWKNDMVEQMHEDIISLWDQSLKPCVKLTPLCVG...</td>\n",
       "      <td>8.150000e-07</td>\n",
       "    </tr>\n",
       "    <tr>\n",
       "      <th>3</th>\n",
       "      <td>1nca</td>\n",
       "      <td>['QIQLVQSGPELKKPGETVKISCKASGYTFTNYGMNWVKQAPGKG...</td>\n",
       "      <td>influenza a subtype n9 neuraminidase</td>\n",
       "      <td>IRDFNNLTKGLCTINSWHIYGKDNAVRIGEDSDVLVTREPYVSCDP...</td>\n",
       "      <td>8.300000e-09</td>\n",
       "    </tr>\n",
       "    <tr>\n",
       "      <th>4</th>\n",
       "      <td>3idx</td>\n",
       "      <td>['QVQLVESGGGVVQPGRSLRLSCAASGFTFRNYAMHWVRQAPGKG...</td>\n",
       "      <td>hiv-1 hxbc2 gp120 core</td>\n",
       "      <td>EVVLVNVTENFNWCKNDMVEQMHEDICSLWDQSLKPCVKLTPLCVG...</td>\n",
       "      <td>4.040000e-09</td>\n",
       "    </tr>\n",
       "  </tbody>\n",
       "</table>\n",
       "</div>"
      ],
      "text/plain": [
       "  Antibody_ID                                           Antibody  \\\n",
       "0        1tzh  ['EVQLVESGGGLVQPGGSLRLSCAASGFDIYDDDIHWVRQAPGKG...   \n",
       "1        5xmh  ['MQVQLVQSGAEVKKPGSSVKVSCKASGGTFSSYPISWVRQAPGQ...   \n",
       "2        2ny3  ['EVQLVESGAEVKKPGSSVKVSCKASGDTFIRYSFTWVRQAPGQG...   \n",
       "3        1nca  ['QIQLVQSGPELKKPGETVKISCKASGYTFTNYGMNWVKQAPGKG...   \n",
       "4        3idx  ['QVQLVESGGGVVQPGRSLRLSCAASGFTFRNYAMHWVRQAPGKG...   \n",
       "\n",
       "                             Antigen_ID  \\\n",
       "0  vascular endothelial growth factor a   \n",
       "1    immunoglobulin gamma-1 heavy chain   \n",
       "2           envelope glycoprotein gp120   \n",
       "3  influenza a subtype n9 neuraminidase   \n",
       "4                hiv-1 hxbc2 gp120 core   \n",
       "\n",
       "                                             Antigen             Y  \n",
       "0  GQNHHEVVKFMDVYQRSYCHPIETLVDIFQEYPDEIEYIFKPSCVP...  1.800000e-09  \n",
       "1  GPSVFLFPPKPKDTLMISRTPEVTCVVVDVSHEDPEVKFNWYVDGV...  1.600000e-04  \n",
       "2  EVVLVNVTENFNMWKNDMVEQMHEDIISLWDQSLKPCVKLTPLCVG...  8.150000e-07  \n",
       "3  IRDFNNLTKGLCTINSWHIYGKDNAVRIGEDSDVLVTREPYVSCDP...  8.300000e-09  \n",
       "4  EVVLVNVTENFNWCKNDMVEQMHEDICSLWDQSLKPCVKLTPLCVG...  4.040000e-09  "
      ]
     },
     "execution_count": 18,
     "metadata": {},
     "output_type": "execute_result"
    }
   ],
   "source": [
    "split[\"test\"].head(5)"
   ]
  },
  {
   "cell_type": "code",
   "execution_count": 19,
   "id": "fa6d8277-e6e0-4d86-8090-a37be2328e26",
   "metadata": {},
   "outputs": [
    {
     "data": {
      "text/html": [
       "<div>\n",
       "<style scoped>\n",
       "    .dataframe tbody tr th:only-of-type {\n",
       "        vertical-align: middle;\n",
       "    }\n",
       "\n",
       "    .dataframe tbody tr th {\n",
       "        vertical-align: top;\n",
       "    }\n",
       "\n",
       "    .dataframe thead th {\n",
       "        text-align: right;\n",
       "    }\n",
       "</style>\n",
       "<table border=\"1\" class=\"dataframe\">\n",
       "  <thead>\n",
       "    <tr style=\"text-align: right;\">\n",
       "      <th></th>\n",
       "      <th>Antibody_ID</th>\n",
       "      <th>Antibody</th>\n",
       "      <th>Antigen_ID</th>\n",
       "      <th>Antigen</th>\n",
       "      <th>Y</th>\n",
       "    </tr>\n",
       "  </thead>\n",
       "  <tbody>\n",
       "    <tr>\n",
       "      <th>0</th>\n",
       "      <td>4ffz</td>\n",
       "      <td>['QVQLLQPGAELVKPGASMKLSCKASGYTFTNWWMHWVRLRPGRG...</td>\n",
       "      <td>envelope protein e</td>\n",
       "      <td>MASMTLKGMSYVMCTGSFKLEKEVAETQHGTVLVQVKYEGTDAPCK...</td>\n",
       "      <td>4.160000e-07</td>\n",
       "    </tr>\n",
       "    <tr>\n",
       "      <th>1</th>\n",
       "      <td>2fx9</td>\n",
       "      <td>['QVQLVQSGAEVKRPGSSVTVSCKASGGSFSTYALSWVRQAPGRG...</td>\n",
       "      <td>fragment of hiv glycoprotein gp41</td>\n",
       "      <td>NWFCITRWLWKKKK</td>\n",
       "      <td>1.700000e-08</td>\n",
       "    </tr>\n",
       "    <tr>\n",
       "      <th>2</th>\n",
       "      <td>6ddm</td>\n",
       "      <td>['EIQLQQSGPELVKPGASVKVSCKASGYAFTSQNIYWVKQSHGKS...</td>\n",
       "      <td>mhc class i polypeptide-related sequence a</td>\n",
       "      <td>TVPPMVNVTRSEASEGNITVTCRASSFYPRNIILTWRQDGVSLSHD...</td>\n",
       "      <td>4.200000e-10</td>\n",
       "    </tr>\n",
       "    <tr>\n",
       "      <th>3</th>\n",
       "      <td>1n64</td>\n",
       "      <td>['QIQLVQSGPELKKPGETVKISCKASGYTFTDFSMHWVNQAPGKG...</td>\n",
       "      <td>genome polyprotein capsid protein c</td>\n",
       "      <td>PGGGQIVGGVYLLPRR</td>\n",
       "      <td>1.300000e-09</td>\n",
       "    </tr>\n",
       "    <tr>\n",
       "      <th>4</th>\n",
       "      <td>4iof</td>\n",
       "      <td>['MKKNIAFLLASMFVFSIATNAYAEISEVQLVESGGGLVQPGGSL...</td>\n",
       "      <td>insulin-degrading enzyme</td>\n",
       "      <td>MHHHHHHAAGIPMNNPAIKRIGNHITKSPEDKREYRGLELANGIKV...</td>\n",
       "      <td>4.000000e-09</td>\n",
       "    </tr>\n",
       "  </tbody>\n",
       "</table>\n",
       "</div>"
      ],
      "text/plain": [
       "  Antibody_ID                                           Antibody  \\\n",
       "0        4ffz  ['QVQLLQPGAELVKPGASMKLSCKASGYTFTNWWMHWVRLRPGRG...   \n",
       "1        2fx9  ['QVQLVQSGAEVKRPGSSVTVSCKASGGSFSTYALSWVRQAPGRG...   \n",
       "2        6ddm  ['EIQLQQSGPELVKPGASVKVSCKASGYAFTSQNIYWVKQSHGKS...   \n",
       "3        1n64  ['QIQLVQSGPELKKPGETVKISCKASGYTFTDFSMHWVNQAPGKG...   \n",
       "4        4iof  ['MKKNIAFLLASMFVFSIATNAYAEISEVQLVESGGGLVQPGGSL...   \n",
       "\n",
       "                                   Antigen_ID  \\\n",
       "0                          envelope protein e   \n",
       "1           fragment of hiv glycoprotein gp41   \n",
       "2  mhc class i polypeptide-related sequence a   \n",
       "3         genome polyprotein capsid protein c   \n",
       "4                    insulin-degrading enzyme   \n",
       "\n",
       "                                             Antigen             Y  \n",
       "0  MASMTLKGMSYVMCTGSFKLEKEVAETQHGTVLVQVKYEGTDAPCK...  4.160000e-07  \n",
       "1                                     NWFCITRWLWKKKK  1.700000e-08  \n",
       "2  TVPPMVNVTRSEASEGNITVTCRASSFYPRNIILTWRQDGVSLSHD...  4.200000e-10  \n",
       "3                                   PGGGQIVGGVYLLPRR  1.300000e-09  \n",
       "4  MHHHHHHAAGIPMNNPAIKRIGNHITKSPEDKREYRGLELANGIKV...  4.000000e-09  "
      ]
     },
     "execution_count": 19,
     "metadata": {},
     "output_type": "execute_result"
    }
   ],
   "source": [
    "split[\"valid\"].head(5)"
   ]
  },
  {
   "cell_type": "markdown",
   "id": "7e5d8b6c-cf19-41f3-b974-9d8fd50619fd",
   "metadata": {},
   "source": [
    "## Generate the X and y datasets"
   ]
  },
  {
   "cell_type": "code",
   "execution_count": 20,
   "id": "fc5d8629-c153-451b-9791-65c8f55e69fe",
   "metadata": {},
   "outputs": [],
   "source": [
    "X_train = embed_antibody(split[\"train\"][\"Antibody\"])\n",
    "X_valid = embed_antibody(split[\"valid\"][\"Antibody\"])\n",
    "X_test  = embed_antibody(split[\"test\"][\"Antibody\"])"
   ]
  },
  {
   "cell_type": "code",
   "execution_count": 21,
   "id": "6a11e970-df9b-42be-9344-02a5d8102d07",
   "metadata": {},
   "outputs": [
    {
     "data": {
      "text/plain": [
       "(345, 320, 1)"
      ]
     },
     "execution_count": 21,
     "metadata": {},
     "output_type": "execute_result"
    }
   ],
   "source": [
    "X_train.shape"
   ]
  },
  {
   "cell_type": "code",
   "execution_count": 22,
   "id": "6c7cfd54-0259-4990-8a2f-4847246db969",
   "metadata": {},
   "outputs": [
    {
     "data": {
      "text/plain": [
       "(99, 320, 1)"
      ]
     },
     "execution_count": 22,
     "metadata": {},
     "output_type": "execute_result"
    }
   ],
   "source": [
    "X_test.shape"
   ]
  },
  {
   "cell_type": "code",
   "execution_count": 23,
   "id": "a6edd6dc-4de4-4cd5-a667-ebd4596565c2",
   "metadata": {},
   "outputs": [],
   "source": [
    "# Recommend to take the log transform on the affinity values to make them more linear\n",
    "y_train = np.log(split[\"train\"][\"Y\"].values)\n",
    "y_valid = np.log(split[\"valid\"][\"Y\"].values)\n",
    "y_test =  np.log(split[\"test\"][\"Y\"].values)"
   ]
  },
  {
   "cell_type": "code",
   "execution_count": 24,
   "id": "0c464b03-c361-4009-aebc-876f46d27c57",
   "metadata": {},
   "outputs": [],
   "source": [
    "from torch import nn\n",
    "import torch.backends\n",
    "from torch.utils.data import DataLoader, TensorDataset\n",
    "import pytorch_lightning as pl\n",
    "\n",
    "from pytorch_lightning.callbacks.progress import TQDMProgressBar\n",
    "from pytorch_lightning.callbacks import EarlyStopping, ModelCheckpoint\n",
    "\n",
    "from torchmetrics.regression import MeanSquaredError"
   ]
  },
  {
   "cell_type": "code",
   "execution_count": 25,
   "id": "254db786-0304-41ff-bfcb-5868bc7b0a35",
   "metadata": {},
   "outputs": [
    {
     "name": "stderr",
     "output_type": "stream",
     "text": [
      "Seed set to 816\n"
     ]
    }
   ],
   "source": [
    "pl.seed_everything(816)  # Random seed to ensure deterministic training\n",
    "\n",
    "# Ensure that all operations are deterministic on GPU (if used) for reproducibility\n",
    "torch.backends.cudnn.determinstic = True"
   ]
  },
  {
   "cell_type": "code",
   "execution_count": 26,
   "id": "ca0178db-09ff-4204-a207-1505fa073b69",
   "metadata": {},
   "outputs": [],
   "source": [
    "class Lit_Affinity_Model(pl.LightningModule):\n",
    "    \"\"\"PyTorch Lightning Module\n",
    "\n",
    "    Defines the PyTorch model. Defines the training, validation, and testing for the model.\n",
    "\n",
    "    \"\"\"\n",
    "\n",
    "    def __init__(self, kwargs):\n",
    "        super().__init__()\n",
    "\n",
    "        # Training parameters\n",
    "        self.learning_rate = kwargs[\"learning_rate\"]\n",
    "        self.train_batch_size = kwargs[\"train_batch_size\"]\n",
    "        self.val_batch_size = kwargs[\"validation_batch_size\"]\n",
    "        self.test_batch_size = kwargs[\"test_batch_size\"]\n",
    "\n",
    "        self.X_train = kwargs[\"X_train\"]\n",
    "        self.y_train = kwargs[\"y_train\"]\n",
    "\n",
    "        self.X_validation = kwargs[\"X_validation\"]\n",
    "        self.y_validation = kwargs[\"y_validation\"]\n",
    "\n",
    "        self.X_test = kwargs[\"X_test\"]\n",
    "        self.y_test = kwargs[\"y_test\"]\n",
    "\n",
    "        # Model layers\n",
    "        self.layer1 = nn.Linear(kwargs[\"input_dim\"], 512)\n",
    "        self.layer2 = nn.Linear(512, 256)\n",
    "        self.layer_out = nn.Linear(256, 1)\n",
    "\n",
    "        # Metrics\n",
    "        self.train_mse = MeanSquaredError()\n",
    "        self.val_mse = MeanSquaredError()\n",
    "        self.test_mse = MeanSquaredError()\n",
    "\n",
    "        self.normalize_input = kwargs[\"Normalize input\"]\n",
    "\n",
    "    def forward(self, x):\n",
    "        \"\"\"Define forward pass for model\n",
    "\n",
    "        Args:\n",
    "            x: Input to model\n",
    "        \"\"\"\n",
    "\n",
    "        # Define our model\n",
    "\n",
    "        x = x.view(x.size(0), -1)  # Reshape input vector\n",
    "\n",
    "        # Normalize the input embedding vector to mean 0 and standard deviation 1\n",
    "        if self.normalize_input:\n",
    "            x = nn.functional.normalize(x)\n",
    "\n",
    "        x = self.layer1(x)\n",
    "        x = nn.ReLU()(x)\n",
    "\n",
    "        x = self.layer2(x)\n",
    "        x = nn.ReLU()(x)\n",
    "\n",
    "        # Add dropout layer with 0.2 probability of dropout\n",
    "        x = nn.Dropout(p=0.2)(x)\n",
    "\n",
    "        x = self.layer_out(x)\n",
    "\n",
    "        return x\n",
    "\n",
    "    def configure_optimizers(self):\n",
    "        \"\"\"Configure the SGD optimizer\"\"\"\n",
    "        optimizer = torch.optim.Adam(self.parameters(), lr=self.learning_rate)\n",
    "        return optimizer\n",
    "\n",
    "    def training_step(self, batch, batch_idx):\n",
    "        \"\"\"Defines what happens at each step in training\n",
    "\n",
    "        batch:  A batch from the data loader\n",
    "        batch_idx(int): The index of the batch\n",
    "        \"\"\"\n",
    "        # training_step defines the train loop.\n",
    "        input_vector, label = batch\n",
    "        prediction = self.forward(input_vector)\n",
    "\n",
    "        loss = nn.MSELoss()(prediction, label)\n",
    "\n",
    "        self.train_mse.update(prediction, label)\n",
    "\n",
    "        return loss\n",
    "\n",
    "    def validation_step(self, batch, batch_idx):\n",
    "        \"\"\"Defines what happens at each step in validation\n",
    "\n",
    "        batch:  A batch from the data loader\n",
    "        batch_idx(int): The index of the batch\n",
    "        \"\"\"\n",
    "        # training_step defines the train loop.\n",
    "        input_vector, label = batch\n",
    "        prediction = self.forward(input_vector)\n",
    "        loss = nn.MSELoss()(prediction, label)\n",
    "\n",
    "        self.val_mse.update(prediction, label)\n",
    "\n",
    "        # Calling self.log will surface up scalars for you in TensorBoard\n",
    "        self.log(\"val_mse\", loss, prog_bar=True)\n",
    "\n",
    "    def test_step(self, batch, batch_idx):\n",
    "        \"\"\"Defines what happens at each step in testing\n",
    "\n",
    "        batch:  A batch from the data loader\n",
    "        batch_idx(int): The index of the batch\n",
    "        \"\"\"\n",
    "        input_vector, label = batch\n",
    "        prediction = self.forward(input_vector)\n",
    "        loss = nn.MSELoss()(prediction, label)\n",
    "\n",
    "        self.test_mse.update(prediction, label)\n",
    "\n",
    "        # Calling self.log will surface up scalars for you in TensorBoard\n",
    "        self.log(\"test_mse\", loss, prog_bar=True)\n",
    "\n",
    "    def train_dataloader(self):\n",
    "        \"\"\"Defines the PyTorch data loader for the training data\"\"\"\n",
    "        train = TensorDataset(\n",
    "            torch.Tensor(self.X_train),\n",
    "            torch.Tensor(np.expand_dims(self.y_train, axis=1)),\n",
    "        )\n",
    "        return DataLoader(train, batch_size=self.train_batch_size, shuffle=True)\n",
    "\n",
    "    def val_dataloader(self):\n",
    "        \"\"\"Defines the PyTorch data loader for the validation data\"\"\"\n",
    "        validate = TensorDataset(\n",
    "            torch.Tensor(self.X_validation),\n",
    "            torch.Tensor(np.expand_dims(self.y_validation, axis=1)),\n",
    "        )\n",
    "        return DataLoader(validate, batch_size=self.val_batch_size, shuffle=False)\n",
    "\n",
    "    def test_dataloader(self):\n",
    "        \"\"\"Defines the PyTorch data loader for the testing data\"\"\"\n",
    "        test = TensorDataset(\n",
    "            torch.Tensor(self.X_test), torch.Tensor(np.expand_dims(self.y_test, axis=1))\n",
    "        )\n",
    "        return DataLoader(test, batch_size=self.test_batch_size, shuffle=False)"
   ]
  },
  {
   "cell_type": "code",
   "execution_count": 57,
   "id": "ef9a451e-de21-45f1-81c2-99449ffe0ffd",
   "metadata": {},
   "outputs": [],
   "source": [
    "model_parameters = {\n",
    "    \"input_dim\": X_train.shape[1],  # vector of 2560 elements\n",
    "    \"learning_rate\": 1e-4,\n",
    "    \"X_train\": X_train,\n",
    "    \"y_train\": y_train,\n",
    "    \"X_validation\": X_valid,\n",
    "    \"y_validation\": y_valid,\n",
    "    \"X_test\": X_test,\n",
    "    \"y_test\": y_test,\n",
    "    \"train_batch_size\": 32,\n",
    "    \"validation_batch_size\": 16,\n",
    "    \"test_batch_size\": 16,\n",
    "    \"Normalize input\": True,\n",
    "}\n",
    "\n",
    "affinity_model = Lit_Affinity_Model(model_parameters)"
   ]
  },
  {
   "cell_type": "code",
   "execution_count": 58,
   "id": "2e03b5d4-0b8f-441c-b194-c2edd5fac2e2",
   "metadata": {},
   "outputs": [],
   "source": [
    "progress_bar = TQDMProgressBar(refresh_rate=20)"
   ]
  },
  {
   "cell_type": "code",
   "execution_count": 59,
   "id": "77a8ede3-5b4d-4b88-9641-4741825c9240",
   "metadata": {},
   "outputs": [],
   "source": [
    "early_stopping = EarlyStopping(\n",
    "    monitor=\"val_mse\",\n",
    "    min_delta=0.001,\n",
    "    patience=20,\n",
    ")"
   ]
  },
  {
   "cell_type": "code",
   "execution_count": 60,
   "id": "24bcbe37-195d-4a06-8c64-528b02e71218",
   "metadata": {},
   "outputs": [],
   "source": [
    "model_checkpoint = ModelCheckpoint(monitor=\"val_mse\")"
   ]
  },
  {
   "cell_type": "code",
   "execution_count": 61,
   "id": "110c06bc-4dff-45ec-931f-0a48f79884ce",
   "metadata": {},
   "outputs": [
    {
     "name": "stderr",
     "output_type": "stream",
     "text": [
      "GPU available: True (cuda), used: True\n",
      "TPU available: False, using: 0 TPU cores\n",
      "IPU available: False, using: 0 IPUs\n",
      "HPU available: False, using: 0 HPUs\n"
     ]
    }
   ],
   "source": [
    "# Initialize a trainer\n",
    "trainer = pl.Trainer(\n",
    "    accelerator=\"auto\",\n",
    "    devices=1 if torch.cuda.is_available() else None,\n",
    "    max_epochs=1000,\n",
    "    callbacks=[progress_bar, early_stopping, model_checkpoint],\n",
    ")"
   ]
  },
  {
   "cell_type": "code",
   "execution_count": 62,
   "id": "73807978-6017-4737-a047-82f798e8fcbe",
   "metadata": {},
   "outputs": [
    {
     "name": "stderr",
     "output_type": "stream",
     "text": [
      "LOCAL_RANK: 0 - CUDA_VISIBLE_DEVICES: [0]\n",
      "\n",
      "  | Name      | Type             | Params\n",
      "-----------------------------------------------\n",
      "0 | layer1    | Linear           | 164 K \n",
      "1 | layer2    | Linear           | 131 K \n",
      "2 | layer_out | Linear           | 257   \n",
      "3 | train_mse | MeanSquaredError | 0     \n",
      "4 | val_mse   | MeanSquaredError | 0     \n",
      "5 | test_mse  | MeanSquaredError | 0     \n",
      "-----------------------------------------------\n",
      "295 K     Trainable params\n",
      "0         Non-trainable params\n",
      "295 K     Total params\n",
      "1.184     Total estimated model params size (MB)\n"
     ]
    },
    {
     "data": {
      "application/vnd.jupyter.widget-view+json": {
       "model_id": "",
       "version_major": 2,
       "version_minor": 0
      },
      "text/plain": [
       "Sanity Checking: |                                                                        | 0/? [00:00<?, ?it/…"
      ]
     },
     "metadata": {},
     "output_type": "display_data"
    },
    {
     "data": {
      "application/vnd.jupyter.widget-view+json": {
       "model_id": "20a8a6434bfe4d5bb5e1b98836a52c79",
       "version_major": 2,
       "version_minor": 0
      },
      "text/plain": [
       "Training: |                                                                               | 0/? [00:00<?, ?it/…"
      ]
     },
     "metadata": {},
     "output_type": "display_data"
    },
    {
     "data": {
      "application/vnd.jupyter.widget-view+json": {
       "model_id": "",
       "version_major": 2,
       "version_minor": 0
      },
      "text/plain": [
       "Validation: |                                                                             | 0/? [00:00<?, ?it/…"
      ]
     },
     "metadata": {},
     "output_type": "display_data"
    },
    {
     "data": {
      "application/vnd.jupyter.widget-view+json": {
       "model_id": "",
       "version_major": 2,
       "version_minor": 0
      },
      "text/plain": [
       "Validation: |                                                                             | 0/? [00:00<?, ?it/…"
      ]
     },
     "metadata": {},
     "output_type": "display_data"
    },
    {
     "data": {
      "application/vnd.jupyter.widget-view+json": {
       "model_id": "",
       "version_major": 2,
       "version_minor": 0
      },
      "text/plain": [
       "Validation: |                                                                             | 0/? [00:00<?, ?it/…"
      ]
     },
     "metadata": {},
     "output_type": "display_data"
    },
    {
     "data": {
      "application/vnd.jupyter.widget-view+json": {
       "model_id": "",
       "version_major": 2,
       "version_minor": 0
      },
      "text/plain": [
       "Validation: |                                                                             | 0/? [00:00<?, ?it/…"
      ]
     },
     "metadata": {},
     "output_type": "display_data"
    },
    {
     "data": {
      "application/vnd.jupyter.widget-view+json": {
       "model_id": "",
       "version_major": 2,
       "version_minor": 0
      },
      "text/plain": [
       "Validation: |                                                                             | 0/? [00:00<?, ?it/…"
      ]
     },
     "metadata": {},
     "output_type": "display_data"
    },
    {
     "data": {
      "application/vnd.jupyter.widget-view+json": {
       "model_id": "",
       "version_major": 2,
       "version_minor": 0
      },
      "text/plain": [
       "Validation: |                                                                             | 0/? [00:00<?, ?it/…"
      ]
     },
     "metadata": {},
     "output_type": "display_data"
    },
    {
     "data": {
      "application/vnd.jupyter.widget-view+json": {
       "model_id": "",
       "version_major": 2,
       "version_minor": 0
      },
      "text/plain": [
       "Validation: |                                                                             | 0/? [00:00<?, ?it/…"
      ]
     },
     "metadata": {},
     "output_type": "display_data"
    },
    {
     "data": {
      "application/vnd.jupyter.widget-view+json": {
       "model_id": "",
       "version_major": 2,
       "version_minor": 0
      },
      "text/plain": [
       "Validation: |                                                                             | 0/? [00:00<?, ?it/…"
      ]
     },
     "metadata": {},
     "output_type": "display_data"
    },
    {
     "data": {
      "application/vnd.jupyter.widget-view+json": {
       "model_id": "",
       "version_major": 2,
       "version_minor": 0
      },
      "text/plain": [
       "Validation: |                                                                             | 0/? [00:00<?, ?it/…"
      ]
     },
     "metadata": {},
     "output_type": "display_data"
    },
    {
     "data": {
      "application/vnd.jupyter.widget-view+json": {
       "model_id": "",
       "version_major": 2,
       "version_minor": 0
      },
      "text/plain": [
       "Validation: |                                                                             | 0/? [00:00<?, ?it/…"
      ]
     },
     "metadata": {},
     "output_type": "display_data"
    },
    {
     "data": {
      "application/vnd.jupyter.widget-view+json": {
       "model_id": "",
       "version_major": 2,
       "version_minor": 0
      },
      "text/plain": [
       "Validation: |                                                                             | 0/? [00:00<?, ?it/…"
      ]
     },
     "metadata": {},
     "output_type": "display_data"
    },
    {
     "data": {
      "application/vnd.jupyter.widget-view+json": {
       "model_id": "",
       "version_major": 2,
       "version_minor": 0
      },
      "text/plain": [
       "Validation: |                                                                             | 0/? [00:00<?, ?it/…"
      ]
     },
     "metadata": {},
     "output_type": "display_data"
    },
    {
     "data": {
      "application/vnd.jupyter.widget-view+json": {
       "model_id": "",
       "version_major": 2,
       "version_minor": 0
      },
      "text/plain": [
       "Validation: |                                                                             | 0/? [00:00<?, ?it/…"
      ]
     },
     "metadata": {},
     "output_type": "display_data"
    },
    {
     "data": {
      "application/vnd.jupyter.widget-view+json": {
       "model_id": "",
       "version_major": 2,
       "version_minor": 0
      },
      "text/plain": [
       "Validation: |                                                                             | 0/? [00:00<?, ?it/…"
      ]
     },
     "metadata": {},
     "output_type": "display_data"
    },
    {
     "data": {
      "application/vnd.jupyter.widget-view+json": {
       "model_id": "",
       "version_major": 2,
       "version_minor": 0
      },
      "text/plain": [
       "Validation: |                                                                             | 0/? [00:00<?, ?it/…"
      ]
     },
     "metadata": {},
     "output_type": "display_data"
    },
    {
     "data": {
      "application/vnd.jupyter.widget-view+json": {
       "model_id": "",
       "version_major": 2,
       "version_minor": 0
      },
      "text/plain": [
       "Validation: |                                                                             | 0/? [00:00<?, ?it/…"
      ]
     },
     "metadata": {},
     "output_type": "display_data"
    },
    {
     "data": {
      "application/vnd.jupyter.widget-view+json": {
       "model_id": "",
       "version_major": 2,
       "version_minor": 0
      },
      "text/plain": [
       "Validation: |                                                                             | 0/? [00:00<?, ?it/…"
      ]
     },
     "metadata": {},
     "output_type": "display_data"
    },
    {
     "data": {
      "application/vnd.jupyter.widget-view+json": {
       "model_id": "",
       "version_major": 2,
       "version_minor": 0
      },
      "text/plain": [
       "Validation: |                                                                             | 0/? [00:00<?, ?it/…"
      ]
     },
     "metadata": {},
     "output_type": "display_data"
    },
    {
     "data": {
      "application/vnd.jupyter.widget-view+json": {
       "model_id": "",
       "version_major": 2,
       "version_minor": 0
      },
      "text/plain": [
       "Validation: |                                                                             | 0/? [00:00<?, ?it/…"
      ]
     },
     "metadata": {},
     "output_type": "display_data"
    },
    {
     "data": {
      "application/vnd.jupyter.widget-view+json": {
       "model_id": "",
       "version_major": 2,
       "version_minor": 0
      },
      "text/plain": [
       "Validation: |                                                                             | 0/? [00:00<?, ?it/…"
      ]
     },
     "metadata": {},
     "output_type": "display_data"
    },
    {
     "data": {
      "application/vnd.jupyter.widget-view+json": {
       "model_id": "",
       "version_major": 2,
       "version_minor": 0
      },
      "text/plain": [
       "Validation: |                                                                             | 0/? [00:00<?, ?it/…"
      ]
     },
     "metadata": {},
     "output_type": "display_data"
    },
    {
     "data": {
      "application/vnd.jupyter.widget-view+json": {
       "model_id": "",
       "version_major": 2,
       "version_minor": 0
      },
      "text/plain": [
       "Validation: |                                                                             | 0/? [00:00<?, ?it/…"
      ]
     },
     "metadata": {},
     "output_type": "display_data"
    },
    {
     "data": {
      "application/vnd.jupyter.widget-view+json": {
       "model_id": "",
       "version_major": 2,
       "version_minor": 0
      },
      "text/plain": [
       "Validation: |                                                                             | 0/? [00:00<?, ?it/…"
      ]
     },
     "metadata": {},
     "output_type": "display_data"
    },
    {
     "data": {
      "application/vnd.jupyter.widget-view+json": {
       "model_id": "",
       "version_major": 2,
       "version_minor": 0
      },
      "text/plain": [
       "Validation: |                                                                             | 0/? [00:00<?, ?it/…"
      ]
     },
     "metadata": {},
     "output_type": "display_data"
    },
    {
     "data": {
      "application/vnd.jupyter.widget-view+json": {
       "model_id": "",
       "version_major": 2,
       "version_minor": 0
      },
      "text/plain": [
       "Validation: |                                                                             | 0/? [00:00<?, ?it/…"
      ]
     },
     "metadata": {},
     "output_type": "display_data"
    },
    {
     "data": {
      "application/vnd.jupyter.widget-view+json": {
       "model_id": "",
       "version_major": 2,
       "version_minor": 0
      },
      "text/plain": [
       "Validation: |                                                                             | 0/? [00:00<?, ?it/…"
      ]
     },
     "metadata": {},
     "output_type": "display_data"
    },
    {
     "data": {
      "application/vnd.jupyter.widget-view+json": {
       "model_id": "",
       "version_major": 2,
       "version_minor": 0
      },
      "text/plain": [
       "Validation: |                                                                             | 0/? [00:00<?, ?it/…"
      ]
     },
     "metadata": {},
     "output_type": "display_data"
    },
    {
     "data": {
      "application/vnd.jupyter.widget-view+json": {
       "model_id": "",
       "version_major": 2,
       "version_minor": 0
      },
      "text/plain": [
       "Validation: |                                                                             | 0/? [00:00<?, ?it/…"
      ]
     },
     "metadata": {},
     "output_type": "display_data"
    },
    {
     "data": {
      "application/vnd.jupyter.widget-view+json": {
       "model_id": "",
       "version_major": 2,
       "version_minor": 0
      },
      "text/plain": [
       "Validation: |                                                                             | 0/? [00:00<?, ?it/…"
      ]
     },
     "metadata": {},
     "output_type": "display_data"
    },
    {
     "data": {
      "application/vnd.jupyter.widget-view+json": {
       "model_id": "",
       "version_major": 2,
       "version_minor": 0
      },
      "text/plain": [
       "Validation: |                                                                             | 0/? [00:00<?, ?it/…"
      ]
     },
     "metadata": {},
     "output_type": "display_data"
    },
    {
     "data": {
      "application/vnd.jupyter.widget-view+json": {
       "model_id": "",
       "version_major": 2,
       "version_minor": 0
      },
      "text/plain": [
       "Validation: |                                                                             | 0/? [00:00<?, ?it/…"
      ]
     },
     "metadata": {},
     "output_type": "display_data"
    },
    {
     "data": {
      "application/vnd.jupyter.widget-view+json": {
       "model_id": "",
       "version_major": 2,
       "version_minor": 0
      },
      "text/plain": [
       "Validation: |                                                                             | 0/? [00:00<?, ?it/…"
      ]
     },
     "metadata": {},
     "output_type": "display_data"
    },
    {
     "data": {
      "application/vnd.jupyter.widget-view+json": {
       "model_id": "",
       "version_major": 2,
       "version_minor": 0
      },
      "text/plain": [
       "Validation: |                                                                             | 0/? [00:00<?, ?it/…"
      ]
     },
     "metadata": {},
     "output_type": "display_data"
    },
    {
     "data": {
      "application/vnd.jupyter.widget-view+json": {
       "model_id": "",
       "version_major": 2,
       "version_minor": 0
      },
      "text/plain": [
       "Validation: |                                                                             | 0/? [00:00<?, ?it/…"
      ]
     },
     "metadata": {},
     "output_type": "display_data"
    },
    {
     "data": {
      "application/vnd.jupyter.widget-view+json": {
       "model_id": "",
       "version_major": 2,
       "version_minor": 0
      },
      "text/plain": [
       "Validation: |                                                                             | 0/? [00:00<?, ?it/…"
      ]
     },
     "metadata": {},
     "output_type": "display_data"
    },
    {
     "data": {
      "application/vnd.jupyter.widget-view+json": {
       "model_id": "",
       "version_major": 2,
       "version_minor": 0
      },
      "text/plain": [
       "Validation: |                                                                             | 0/? [00:00<?, ?it/…"
      ]
     },
     "metadata": {},
     "output_type": "display_data"
    },
    {
     "data": {
      "application/vnd.jupyter.widget-view+json": {
       "model_id": "",
       "version_major": 2,
       "version_minor": 0
      },
      "text/plain": [
       "Validation: |                                                                             | 0/? [00:00<?, ?it/…"
      ]
     },
     "metadata": {},
     "output_type": "display_data"
    },
    {
     "data": {
      "application/vnd.jupyter.widget-view+json": {
       "model_id": "",
       "version_major": 2,
       "version_minor": 0
      },
      "text/plain": [
       "Validation: |                                                                             | 0/? [00:00<?, ?it/…"
      ]
     },
     "metadata": {},
     "output_type": "display_data"
    },
    {
     "data": {
      "application/vnd.jupyter.widget-view+json": {
       "model_id": "",
       "version_major": 2,
       "version_minor": 0
      },
      "text/plain": [
       "Validation: |                                                                             | 0/? [00:00<?, ?it/…"
      ]
     },
     "metadata": {},
     "output_type": "display_data"
    },
    {
     "data": {
      "application/vnd.jupyter.widget-view+json": {
       "model_id": "",
       "version_major": 2,
       "version_minor": 0
      },
      "text/plain": [
       "Validation: |                                                                             | 0/? [00:00<?, ?it/…"
      ]
     },
     "metadata": {},
     "output_type": "display_data"
    },
    {
     "data": {
      "application/vnd.jupyter.widget-view+json": {
       "model_id": "",
       "version_major": 2,
       "version_minor": 0
      },
      "text/plain": [
       "Validation: |                                                                             | 0/? [00:00<?, ?it/…"
      ]
     },
     "metadata": {},
     "output_type": "display_data"
    },
    {
     "data": {
      "application/vnd.jupyter.widget-view+json": {
       "model_id": "",
       "version_major": 2,
       "version_minor": 0
      },
      "text/plain": [
       "Validation: |                                                                             | 0/? [00:00<?, ?it/…"
      ]
     },
     "metadata": {},
     "output_type": "display_data"
    },
    {
     "data": {
      "application/vnd.jupyter.widget-view+json": {
       "model_id": "",
       "version_major": 2,
       "version_minor": 0
      },
      "text/plain": [
       "Validation: |                                                                             | 0/? [00:00<?, ?it/…"
      ]
     },
     "metadata": {},
     "output_type": "display_data"
    },
    {
     "data": {
      "application/vnd.jupyter.widget-view+json": {
       "model_id": "",
       "version_major": 2,
       "version_minor": 0
      },
      "text/plain": [
       "Validation: |                                                                             | 0/? [00:00<?, ?it/…"
      ]
     },
     "metadata": {},
     "output_type": "display_data"
    },
    {
     "data": {
      "application/vnd.jupyter.widget-view+json": {
       "model_id": "",
       "version_major": 2,
       "version_minor": 0
      },
      "text/plain": [
       "Validation: |                                                                             | 0/? [00:00<?, ?it/…"
      ]
     },
     "metadata": {},
     "output_type": "display_data"
    },
    {
     "data": {
      "application/vnd.jupyter.widget-view+json": {
       "model_id": "",
       "version_major": 2,
       "version_minor": 0
      },
      "text/plain": [
       "Validation: |                                                                             | 0/? [00:00<?, ?it/…"
      ]
     },
     "metadata": {},
     "output_type": "display_data"
    },
    {
     "data": {
      "application/vnd.jupyter.widget-view+json": {
       "model_id": "",
       "version_major": 2,
       "version_minor": 0
      },
      "text/plain": [
       "Validation: |                                                                             | 0/? [00:00<?, ?it/…"
      ]
     },
     "metadata": {},
     "output_type": "display_data"
    },
    {
     "data": {
      "application/vnd.jupyter.widget-view+json": {
       "model_id": "39d91b50af26458eaf9dbe047fd9ff37",
       "version_major": 2,
       "version_minor": 0
      },
      "text/plain": [
       "Validation: |                                                                             | 0/? [00:00<?, ?it/…"
      ]
     },
     "metadata": {},
     "output_type": "display_data"
    },
    {
     "data": {
      "application/vnd.jupyter.widget-view+json": {
       "model_id": "9a8b324089b948afabdfa7faf085c775",
       "version_major": 2,
       "version_minor": 0
      },
      "text/plain": [
       "Validation: |                                                                             | 0/? [00:00<?, ?it/…"
      ]
     },
     "metadata": {},
     "output_type": "display_data"
    },
    {
     "data": {
      "application/vnd.jupyter.widget-view+json": {
       "model_id": "a64f120e5bde4e14aa0eb4c4d71e2789",
       "version_major": 2,
       "version_minor": 0
      },
      "text/plain": [
       "Validation: |                                                                             | 0/? [00:00<?, ?it/…"
      ]
     },
     "metadata": {},
     "output_type": "display_data"
    },
    {
     "data": {
      "application/vnd.jupyter.widget-view+json": {
       "model_id": "f2beef19717e4244a06426233943cb45",
       "version_major": 2,
       "version_minor": 0
      },
      "text/plain": [
       "Validation: |                                                                             | 0/? [00:00<?, ?it/…"
      ]
     },
     "metadata": {},
     "output_type": "display_data"
    },
    {
     "data": {
      "application/vnd.jupyter.widget-view+json": {
       "model_id": "a33245b81a95497cadb472742cdd677c",
       "version_major": 2,
       "version_minor": 0
      },
      "text/plain": [
       "Validation: |                                                                             | 0/? [00:00<?, ?it/…"
      ]
     },
     "metadata": {},
     "output_type": "display_data"
    },
    {
     "data": {
      "application/vnd.jupyter.widget-view+json": {
       "model_id": "e4ac6dc177074072834292bdb2e6cf42",
       "version_major": 2,
       "version_minor": 0
      },
      "text/plain": [
       "Validation: |                                                                             | 0/? [00:00<?, ?it/…"
      ]
     },
     "metadata": {},
     "output_type": "display_data"
    },
    {
     "data": {
      "application/vnd.jupyter.widget-view+json": {
       "model_id": "19d7e4020b6f4b85ac6a589b376b9d1c",
       "version_major": 2,
       "version_minor": 0
      },
      "text/plain": [
       "Validation: |                                                                             | 0/? [00:00<?, ?it/…"
      ]
     },
     "metadata": {},
     "output_type": "display_data"
    }
   ],
   "source": [
    "# Train the model ⚡\n",
    "trainer.fit(affinity_model)"
   ]
  },
  {
   "cell_type": "code",
   "execution_count": 63,
   "id": "11df136b-7cc6-41bb-93c6-5a948ffac261",
   "metadata": {},
   "outputs": [
    {
     "name": "stderr",
     "output_type": "stream",
     "text": [
      "Restoring states from the checkpoint path at /home/tbreina/antibody-affinity/lightning_logs/version_9/checkpoints/epoch=33-step=374.ckpt\n",
      "LOCAL_RANK: 0 - CUDA_VISIBLE_DEVICES: [0]\n",
      "Loaded model weights from the checkpoint at /home/tbreina/antibody-affinity/lightning_logs/version_9/checkpoints/epoch=33-step=374.ckpt\n"
     ]
    },
    {
     "data": {
      "application/vnd.jupyter.widget-view+json": {
       "model_id": "00ad86df9d0d490aaee65670cd196ef0",
       "version_major": 2,
       "version_minor": 0
      },
      "text/plain": [
       "Testing: |                                                                                | 0/? [00:00<?, ?it/…"
      ]
     },
     "metadata": {},
     "output_type": "display_data"
    },
    {
     "name": "stdout",
     "output_type": "stream",
     "text": [
      "────────────────────────────────────────────────────────────────────────────────────────────────────────────────────────\n",
      "       Test metric             DataLoader 0\n",
      "────────────────────────────────────────────────────────────────────────────────────────────────────────────────────────\n",
      "        test_mse             13.13975715637207\n",
      "────────────────────────────────────────────────────────────────────────────────────────────────────────────────────────\n"
     ]
    },
    {
     "data": {
      "text/plain": [
       "[{'test_mse': 13.13975715637207}]"
      ]
     },
     "execution_count": 63,
     "metadata": {},
     "output_type": "execute_result"
    }
   ],
   "source": [
    "trainer.test()"
   ]
  },
  {
   "cell_type": "code",
   "execution_count": 64,
   "id": "fdc37dc5-9cf4-4618-a223-97b98cde1731",
   "metadata": {},
   "outputs": [
    {
     "data": {
      "text/plain": [
       "Lit_Affinity_Model(\n",
       "  (layer1): Linear(in_features=320, out_features=512, bias=True)\n",
       "  (layer2): Linear(in_features=512, out_features=256, bias=True)\n",
       "  (layer_out): Linear(in_features=256, out_features=1, bias=True)\n",
       "  (train_mse): MeanSquaredError()\n",
       "  (val_mse): MeanSquaredError()\n",
       "  (test_mse): MeanSquaredError()\n",
       ")"
      ]
     },
     "execution_count": 64,
     "metadata": {},
     "output_type": "execute_result"
    }
   ],
   "source": [
    "affinity_model = Lit_Affinity_Model.load_from_checkpoint(\n",
    "    model_checkpoint.best_model_path, kwargs=model_parameters\n",
    ")\n",
    "\n",
    "affinity_model.eval()  # This sets the model to inference-only"
   ]
  },
  {
   "cell_type": "code",
   "execution_count": 65,
   "id": "92ca1e36-8feb-4289-b6e3-a4edae105f9d",
   "metadata": {},
   "outputs": [],
   "source": [
    "def make_predictions(model, x_dataset: np.ndarray):\n",
    "    \"\"\"Use model to make binding predictions\n",
    "\n",
    "    Args:\n",
    "        model: The Pytorch model to use for inference\n",
    "        x_dataset: A Numpy array of embedding vectors.\n",
    "\n",
    "    \"\"\"\n",
    "    predictions_pytorch = []\n",
    "\n",
    "    with torch.no_grad():\n",
    "\n",
    "        for x in tqdm(x_dataset, desc=\"Making predictions on the dataset\"):\n",
    "\n",
    "            # Convert the NumPy vector to a PyTorch tensor\n",
    "            tensor_x = torch.Tensor(np.expand_dims(x, 0)).to(device)\n",
    "\n",
    "            prediction = model(tensor_x)\n",
    "\n",
    "            predictions_pytorch.append(prediction.cpu().numpy())\n",
    "            \n",
    "    return np.array(predictions_pytorch)"
   ]
  },
  {
   "cell_type": "code",
   "execution_count": 66,
   "id": "55d89436-8888-4821-82cb-c198b0bbb9c5",
   "metadata": {},
   "outputs": [
    {
     "name": "stderr",
     "output_type": "stream",
     "text": [
      "Making predictions on the dataset: 100%|██████████████████████████████████████| 99/99 [00:00<00:00, 1654.29it/s]\n"
     ]
    }
   ],
   "source": [
    "predictions_pytorch = make_predictions(affinity_model, X_test)"
   ]
  },
  {
   "cell_type": "code",
   "execution_count": 67,
   "id": "63a56180-d1dc-4191-81b9-bc23b5581be1",
   "metadata": {},
   "outputs": [],
   "source": [
    "from seaborn import regplot\n",
    "import pandas as pd"
   ]
  },
  {
   "cell_type": "code",
   "execution_count": 68,
   "id": "5cf5fb49-35c1-4d6a-bf80-8660d827e3b6",
   "metadata": {},
   "outputs": [],
   "source": [
    "df_predictions = pd.DataFrame({\"Measured Affinity\": y_test, \"Model Prediction\": np.squeeze(predictions_pytorch)})"
   ]
  },
  {
   "cell_type": "code",
   "execution_count": 69,
   "id": "f1e7c4a2-0921-4474-bb2a-1ae66c3ceed1",
   "metadata": {},
   "outputs": [
    {
     "data": {
      "text/plain": [
       "<Axes: xlabel='Measured Affinity', ylabel='Model Prediction'>"
      ]
     },
     "execution_count": 69,
     "metadata": {},
     "output_type": "execute_result"
    },
    {
     "data": {
      "image/png": "[encoded data removed]",
      "text/plain": [
       "<Figure size 640x480 with 1 Axes>"
      ]
     },
     "metadata": {},
     "output_type": "display_data"
    }
   ],
   "source": [
    "regplot(df_predictions, x=\"Measured Affinity\", y=\"Model Prediction\")"
   ]
  },
  {
   "cell_type": "code",
   "execution_count": null,
   "id": "c2bf1564-b84c-42b1-a011-52e8f129a498",
   "metadata": {},
   "outputs": [],
   "source": []
  }
 ],
 "metadata": {
  "kernelspec": {
   "display_name": "Python 3 (ipykernel)",
   "language": "python",
   "name": "python3"
  },
  "language_info": {
   "codemirror_mode": {
    "name": "ipython",
    "version": 3
   },
   "file_extension": ".py",
   "mimetype": "text/x-python",
   "name": "python",
   "nbconvert_exporter": "python",
   "pygments_lexer": "ipython3",
   "version": "3.12.2"
  }
 },
 "nbformat": 4,
 "nbformat_minor": 5
}
